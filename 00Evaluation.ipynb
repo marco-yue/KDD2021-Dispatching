{
 "cells": [
  {
   "cell_type": "code",
   "execution_count": 235,
   "metadata": {},
   "outputs": [],
   "source": [
    "'''Numerical Study'''\n",
    "\n",
    "import matplotlib.pyplot as plt\n",
    "\n",
    "from matplotlib.ticker import MultipleLocator, FormatStrFormatter\n",
    "\n",
    "import numpy as np\n",
    "\n",
    "import pandas as pd\n",
    "\n",
    "import folium\n",
    "\n",
    "import geopandas as gp\n",
    "\n",
    "import copy\n",
    "\n",
    "from shapely.geometry import Point, Polygon"
   ]
  },
  {
   "cell_type": "code",
   "execution_count": 236,
   "metadata": {},
   "outputs": [],
   "source": [
    "Strategy='Local'\n",
    "\n",
    "Geometry=np.load('./Data/Initialization/Geo.npy',allow_pickle=True).item()\n",
    "\n",
    "'''Load data'''\n",
    "\n",
    "Order_df=pd.read_csv('./Data/Processed/Dispatched_Order_'+str(Strategy)+'.csv')\n",
    "\n",
    "Order_df=Order_df.drop(columns=['Unnamed: 0'])\n",
    "\n",
    "Driver_df=pd.read_csv('./Data/Processed/Dispatched_Driver_'+str(Strategy)+'.csv')\n",
    "\n",
    "Driver_df=Driver_df.drop(columns=['Unnamed: 0'])\n",
    "\n",
    "Broadcast_df=pd.read_csv('./Data/Processed/Broadcast_'+str(Strategy)+'.csv')\n",
    "\n",
    "Broadcast_df=Broadcast_df.drop(columns=['Unnamed: 0'])\n",
    "\n",
    "# Quatitive_results_5=np.load('./Data/Processed/Quatitive_results_'+str(5)+'.npy',allow_pickle=True)\n",
    "\n",
    "# Quatitive_results_10=np.load('./Data/Processed/Quatitive_results_'+str(10)+'.npy',allow_pickle=True)"
   ]
  },
  {
   "cell_type": "markdown",
   "metadata": {},
   "source": [
    "# Example"
   ]
  },
  {
   "cell_type": "code",
   "execution_count": 237,
   "metadata": {},
   "outputs": [],
   "source": [
    "step=3559\n",
    "\n",
    "EXAM_Broadcast=copy.copy(Broadcast_df[Broadcast_df['step']==step])\n",
    "\n",
    "EXAM_Order_df=copy.copy(Order_df[(Order_df['response_step']==step)])\n",
    "\n",
    "EXAM_Driver_df=copy.copy(Driver_df[(Driver_df['step']==step)])\n",
    "\n",
    "\n",
    "EXAM_Driver_df=EXAM_Driver_df.astype({'driver_id': 'int32'})\n",
    "\n",
    "EXAM_Driver_df=EXAM_Driver_df.astype({'driver_id': 'str'})\n",
    "\n",
    "EXAM_Order_df=EXAM_Order_df.merge(EXAM_Driver_df[['driver_id','longitude','latitude']],on='driver_id',how='left')\n",
    "\n"
   ]
  },
  {
   "cell_type": "markdown",
   "metadata": {},
   "source": [
    "# Broadcasting "
   ]
  },
  {
   "cell_type": "code",
   "execution_count": 238,
   "metadata": {},
   "outputs": [],
   "source": [
    "\n",
    "\n",
    "'''Background'''\n",
    "\n",
    "background = folium.Map([22.648883, 114.045011],tiles='CartoDB positron',zoom_start=10)\n",
    "\n",
    "'''Zones'''\n",
    "\n",
    "folium.Choropleth(\n",
    "    geo_data=Geometry['Shenzhen'],\n",
    "    fill_color='blue',\n",
    "    fill_opacity=0.0,\n",
    "    name='Zone').add_to(background)\n",
    "\n",
    "folium.LayerControl().add_to(background)\n",
    "\n",
    "for idx,row in EXAM_Broadcast.iterrows():\n",
    "    \n",
    "    origin=[float(x) for x in row['origin'].replace('POINT','').replace('(','').replace(')','').strip(' ').split(' ')][::-1];\n",
    "    loc=[float(x) for x in row['loc'].replace('POINT','').replace('(','').replace(')','').strip(' ').split(' ')][::-1]\n",
    "    \n",
    "    folium.Circle(\n",
    "    radius=10,\n",
    "    location=origin,\n",
    "    color='red',\n",
    "    fill=True,\n",
    "    ).add_to(background)\n",
    "    \n",
    "    folium.Circle(\n",
    "    radius=10,\n",
    "    location=loc,\n",
    "    color='blue',\n",
    "    fill=True,\n",
    "    ).add_to(background)\n",
    "    \n",
    "    if row['response']==0:\n",
    "    \n",
    "        folium.PolyLine(\n",
    "        [origin,loc],\n",
    "        color='black',\n",
    "        weight=1, \n",
    "        opacity=0.5\n",
    "        ).add_to(background)\n",
    "        \n",
    "    else:\n",
    "        \n",
    "        folium.PolyLine(\n",
    "        [origin,loc],\n",
    "        color='green',\n",
    "        weight=1.5, \n",
    "        opacity=0.8\n",
    "        ).add_to(background)\n",
    "        \n",
    "for idx,row in EXAM_Order_df[EXAM_Order_df['driver_id']!='Canceled'].iterrows():\n",
    "    \n",
    "    origin=[row['start_lat'],row['start_lng']]\n",
    "    \n",
    "    loc=[row['latitude'],row['longitude']]\n",
    "    \n",
    "    folium.PolyLine(\n",
    "        [origin,loc],\n",
    "        color='red',\n",
    "        weight=2, \n",
    "        opacity=1\n",
    "        ).add_to(background)\n",
    "    \n",
    "        \n",
    "\n",
    "background.save('Broadcast_example_'+Strategy+'.html')"
   ]
  },
  {
   "cell_type": "markdown",
   "metadata": {},
   "source": [
    "# Evaluation"
   ]
  },
  {
   "cell_type": "code",
   "execution_count": 239,
   "metadata": {},
   "outputs": [
    {
     "name": "stdout",
     "output_type": "stream",
     "text": [
      "10704\n",
      "0.9369747899159664\n",
      "549\n",
      "0.04805672268907563\n",
      "171\n",
      "0.014968487394957984\n",
      "GMV:  1255880\n"
     ]
    }
   ],
   "source": [
    "'''Served orders'''\n",
    "\n",
    "print(Order_df.loc[(Order_df['driver_id']!='Canceled')&(Order_df['driver_id']!='Waiting')].shape[0])\n",
    "\n",
    "print(Order_df.loc[(Order_df['driver_id']!='Canceled')&(Order_df['driver_id']!='Waiting')].shape[0]/11424)\n",
    "\n",
    "print(Order_df.loc[(Order_df['driver_id']=='Canceled')].shape[0])\n",
    "\n",
    "print(Order_df.loc[(Order_df['driver_id']=='Canceled')].shape[0]/11424)\n",
    "\n",
    "print(Order_df.loc[(Order_df['driver_id']=='Waiting')].shape[0])\n",
    "\n",
    "print(Order_df.loc[(Order_df['driver_id']=='Waiting')].shape[0]/11424)\n",
    "\n",
    "print('GMV: ',Order_df.loc[(Order_df['driver_id']!='Canceled')&(Order_df['driver_id']!='Waiting'),'fee'].sum())"
   ]
  },
  {
   "cell_type": "code",
   "execution_count": 240,
   "metadata": {},
   "outputs": [
    {
     "name": "stderr",
     "output_type": "stream",
     "text": [
      "/home/data/marco.yang/.conda/envs/marco/lib/python3.7/site-packages/ipykernel_launcher.py:5: SettingWithCopyWarning: \n",
      "A value is trying to be set on a copy of a slice from a DataFrame.\n",
      "Try using .loc[row_indexer,col_indexer] = value instead\n",
      "\n",
      "See the caveats in the documentation: https://pandas.pydata.org/pandas-docs/stable/user_guide/indexing.html#returning-a-view-versus-a-copy\n",
      "  \"\"\"\n"
     ]
    },
    {
     "data": {
      "text/plain": [
       "11.145366218236173"
      ]
     },
     "execution_count": 240,
     "metadata": {},
     "output_type": "execute_result"
    }
   ],
   "source": [
    "'''Average Response time'''\n",
    "\n",
    "Order_Stat=Order_df.loc[(Order_df['create_step']<=3600)&(Order_df['driver_id']!='Canceled')&(Order_df['driver_id']!='Waiting')]\n",
    "\n",
    "Order_Stat['Response_time']=Order_Stat.apply(lambda x:(x['response_step']-x['create_step'])*10,axis=1)\n",
    "\n",
    "Order_Stat=Order_Stat[['order_id','pickup_step','Response_time']]\n",
    "\n",
    "Order_Stat['Response_time'].mean()\n"
   ]
  },
  {
   "cell_type": "code",
   "execution_count": 241,
   "metadata": {},
   "outputs": [
    {
     "name": "stderr",
     "output_type": "stream",
     "text": [
      "/home/data/marco.yang/.conda/envs/marco/lib/python3.7/site-packages/ipykernel_launcher.py:5: SettingWithCopyWarning: \n",
      "A value is trying to be set on a copy of a slice from a DataFrame.\n",
      "Try using .loc[row_indexer,col_indexer] = value instead\n",
      "\n",
      "See the caveats in the documentation: https://pandas.pydata.org/pandas-docs/stable/user_guide/indexing.html#returning-a-view-versus-a-copy\n",
      "  \"\"\"\n"
     ]
    },
    {
     "data": {
      "text/plain": [
       "207.2552316890882"
      ]
     },
     "execution_count": 241,
     "metadata": {},
     "output_type": "execute_result"
    }
   ],
   "source": [
    "'''Average Pick-up time'''\n",
    "\n",
    "Order_Stat=Order_df.loc[(Order_df['create_step']<=3600)&(Order_df['driver_id']!='Canceled')&(Order_df['driver_id']!='Waiting')]\n",
    "\n",
    "Order_Stat['Pickup_time']=Order_Stat.apply(lambda x:(x['pickup_step']-x['response_step'])*10,axis=1)\n",
    "\n",
    "Order_Stat=Order_Stat[['order_id','pickup_step','Pickup_time']]\n",
    "\n",
    "Order_Stat['Pickup_time'].mean()\n"
   ]
  },
  {
   "cell_type": "code",
   "execution_count": 242,
   "metadata": {},
   "outputs": [
    {
     "name": "stderr",
     "output_type": "stream",
     "text": [
      "/home/data/marco.yang/.conda/envs/marco/lib/python3.7/site-packages/ipykernel_launcher.py:25: SettingWithCopyWarning: \n",
      "A value is trying to be set on a copy of a slice from a DataFrame.\n",
      "Try using .loc[row_indexer,col_indexer] = value instead\n",
      "\n",
      "See the caveats in the documentation: https://pandas.pydata.org/pandas-docs/stable/user_guide/indexing.html#returning-a-view-versus-a-copy\n"
     ]
    },
    {
     "data": {
      "text/plain": [
       "0.3380341376509733"
      ]
     },
     "execution_count": 242,
     "metadata": {},
     "output_type": "execute_result"
    }
   ],
   "source": [
    "def Get_Travel_time(start_lng,start_lat,end_lng,end_lat,pickup_step):\n",
    "    pnt1=Point(start_lat,start_lng);\n",
    "    pnt2=Point(end_lat,end_lng);\n",
    "    dis=pnt1.distance(pnt2)*111*1.3\n",
    "    travel_time=int(dis/0.1)\n",
    "    \n",
    "    if pickup_step+travel_time>=3600:\n",
    "        \n",
    "        return 3600-pickup_step\n",
    "    \n",
    "    else:\n",
    "        return travel_time\n",
    "    \n",
    "\n",
    "\n",
    "'''Average Occupied rate'''\n",
    "\n",
    "Order_Stat=Order_df.loc[(Order_df['create_step']<=3600)&(Order_df['pickup_step']<=3600)&(Order_df['driver_id']!='Canceled')&(Order_df['driver_id']!='Waiting')]\n",
    "\n",
    "\n",
    "Order_Stat['duration']=Order_Stat.apply(lambda x:Get_Travel_time(x['start_lng'],\\\n",
    "                                                                x['start_lat'],\\\n",
    "                                                                x['end_lng'],\\\n",
    "                                                                x['end_lat'],\\\n",
    "                                                                x['pickup_step']),axis=1)\n",
    "\n",
    "\n",
    "\n",
    "\n",
    "Order_Stat['duration'].sum()/(4241*1080)"
   ]
  },
  {
   "cell_type": "code",
   "execution_count": null,
   "metadata": {},
   "outputs": [],
   "source": []
  }
 ],
 "metadata": {
  "kernelspec": {
   "display_name": "Python 3",
   "language": "python",
   "name": "python3"
  },
  "language_info": {
   "codemirror_mode": {
    "name": "ipython",
    "version": 3
   },
   "file_extension": ".py",
   "mimetype": "text/x-python",
   "name": "python",
   "nbconvert_exporter": "python",
   "pygments_lexer": "ipython3",
   "version": "3.7.7"
  }
 },
 "nbformat": 4,
 "nbformat_minor": 4
}
