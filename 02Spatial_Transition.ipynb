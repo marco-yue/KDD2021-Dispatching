{
 "cells": [
  {
   "cell_type": "code",
   "execution_count": 20,
   "metadata": {},
   "outputs": [],
   "source": [
    "import pandas as pd\n",
    "\n",
    "import folium\n",
    "\n",
    "import geopandas as gp\n",
    "\n",
    "import numpy as np\n",
    "\n",
    "from scipy.spatial import ConvexHull\n",
    "\n",
    "import random\n",
    "\n",
    "from shapely.geometry import Point, Polygon\n",
    "\n",
    "import matplotlib.pyplot as plt\n",
    "\n",
    "import networkx as nx\n",
    "\n",
    "import math\n",
    "\n",
    "import h3\n",
    "\n"
   ]
  },
  {
   "cell_type": "code",
   "execution_count": 21,
   "metadata": {},
   "outputs": [],
   "source": [
    "'''User defined functions'''\n",
    "def visualize_grids(grids,folium_map):\n",
    "    for grid in grids:\n",
    "        boundary=h3.h3_to_geo_boundary(grid)\n",
    "        boundary=[x for x in boundary]\n",
    "        boundary.append(boundary[0])\n",
    "        grid_PolyLine=folium.PolyLine(locations=boundary,weight=4,color='red')\n",
    "        folium_map.add_child(grid_PolyLine) \n",
    "    return folium_map\n",
    "\n",
    "'''Get Neighbor ranges'''\n",
    "\n",
    "def Get_neighbors(y):\n",
    "    x=list()\n",
    "    for y_ in y:\n",
    "        for y__ in y_:\n",
    "            x.append(y__)\n",
    "    return x\n",
    "    "
   ]
  },
  {
   "cell_type": "markdown",
   "metadata": {},
   "source": [
    "# visualize"
   ]
  },
  {
   "cell_type": "code",
   "execution_count": 22,
   "metadata": {},
   "outputs": [],
   "source": [
    "City_data = gp.read_file('./Data/Guangdong/Guangdong.shp')\n",
    "\n",
    "City_data = City_data.loc[(City_data['CityNameC']=='深圳市')&(City_data['SHI_D_']==4062)]\n"
   ]
  },
  {
   "cell_type": "code",
   "execution_count": 23,
   "metadata": {},
   "outputs": [],
   "source": [
    "for idx,row in City_data.iterrows():\n",
    "    \n",
    "    Geo={'Shenzhen':row['geometry']}\n",
    "    \n",
    "np.save('./Data/Initialization/Geo',Geo)\n"
   ]
  },
  {
   "cell_type": "code",
   "execution_count": 24,
   "metadata": {},
   "outputs": [
    {
     "data": {
      "text/plain": [
       "<folium.map.LayerControl at 0x7fc8705e2450>"
      ]
     },
     "execution_count": 24,
     "metadata": {},
     "output_type": "execute_result"
    }
   ],
   "source": [
    "'''Background'''\n",
    "\n",
    "background = folium.Map([22.648883, 114.045011],tiles='CartoDB positron',zoom_start=12)\n",
    "\n",
    "'''Zones'''\n",
    "\n",
    "folium.Choropleth(\n",
    "    geo_data=City_data,\n",
    "    fill_color='blue',\n",
    "    fill_opacity=0.0,\n",
    "    name='Zone').add_to(background)\n",
    "\n",
    "\n",
    "folium.LayerControl().add_to(background)\n"
   ]
  },
  {
   "cell_type": "code",
   "execution_count": 25,
   "metadata": {},
   "outputs": [
    {
     "data": {
      "text/plain": [
       "['88411cab1bfffff',\n",
       " '88411caa25fffff',\n",
       " '88411cab11fffff',\n",
       " '88411cab19fffff',\n",
       " '88411caa27fffff',\n",
       " '88411cab13fffff',\n",
       " '88411ca84dfffff',\n",
       " '88411ca869fffff',\n",
       " '88411cab17fffff',\n",
       " '88411ca845fffff',\n",
       " '88411cab53fffff',\n",
       " '88411ca841fffff',\n",
       " '88411caa21fffff',\n",
       " '88411cab1dfffff',\n",
       " '88411caa2dfffff',\n",
       " '88411cab57fffff',\n",
       " '88411caa23fffff',\n",
       " '88411cab15fffff',\n",
       " '88411ca849fffff']"
      ]
     },
     "execution_count": 25,
     "metadata": {},
     "output_type": "execute_result"
    }
   ],
   "source": [
    "lat,lng=22.569494, 114.059183\n",
    "\n",
    "resolution=8\n",
    "\n",
    "grid_radius=0.461354684\n",
    "\n",
    "h3_address=h3.geo_to_h3(lat, lng, resolution)\n",
    "\n",
    "'''Neighbor'''\n",
    "\n",
    "Neighbors=list(h3.hex_ring(h3_address, k=1))\n",
    "\n",
    "'''Neighbor range'''\n",
    "\n",
    "Neighbors=Get_neighbors(h3.hex_range_distances(h3_address, 2))\n",
    "\n",
    "Neighbors\n",
    "\n"
   ]
  },
  {
   "cell_type": "markdown",
   "metadata": {},
   "source": [
    "# transform data"
   ]
  },
  {
   "cell_type": "code",
   "execution_count": 26,
   "metadata": {},
   "outputs": [],
   "source": [
    "Geometry=np.load('./Data/Initialization/Geo.npy',allow_pickle=True).item()\n",
    "\n",
    "boundary=[[[x[1],x[0]] for x in list(Geometry['Shenzhen'].exterior.coords)]]\n",
    "\n",
    "geoJson = {'type': 'Polygon','coordinates': boundary}\n",
    "\n",
    "Grids = list(h3.polyfill(geoJson, resolution))\n",
    "\n",
    "np.save('./Data/Processed/Grids',Grids)\n",
    "\n",
    "background=visualize_grids(Grids,background)\n",
    "\n",
    "background=background.save('Example.html')"
   ]
  },
  {
   "cell_type": "code",
   "execution_count": null,
   "metadata": {},
   "outputs": [],
   "source": []
  }
 ],
 "metadata": {
  "kernelspec": {
   "display_name": "Python 3",
   "language": "python",
   "name": "python3"
  },
  "language_info": {
   "codemirror_mode": {
    "name": "ipython",
    "version": 3
   },
   "file_extension": ".py",
   "mimetype": "text/x-python",
   "name": "python",
   "nbconvert_exporter": "python",
   "pygments_lexer": "ipython3",
   "version": "3.7.7"
  }
 },
 "nbformat": 4,
 "nbformat_minor": 4
}
